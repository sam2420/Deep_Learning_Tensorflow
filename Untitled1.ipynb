{
 "cells": [
  {
   "cell_type": "code",
   "execution_count": 5,
   "id": "1e46af0e",
   "metadata": {},
   "outputs": [
    {
     "data": {
      "text/plain": [
       "(array([    0,     1,     2, ..., 99997, 99998, 99999]),\n",
       " array([    10,     11,     12, ..., 100007, 100008, 100009]))"
      ]
     },
     "execution_count": 5,
     "metadata": {},
     "output_type": "execute_result"
    }
   ],
   "source": [
    "import numpy as np\n",
    "import tensorflow as tf\n",
    "X=np.arange(100000)\n",
    "y=X+10\n",
    "X,y"
   ]
  },
  {
   "cell_type": "code",
   "execution_count": 6,
   "id": "b3348a0e",
   "metadata": {},
   "outputs": [
    {
     "data": {
      "text/plain": [
       "(<tf.Tensor: shape=(100000,), dtype=float32, numpy=\n",
       " array([0.0000e+00, 1.0000e+00, 2.0000e+00, ..., 9.9997e+04, 9.9998e+04,\n",
       "        9.9999e+04], dtype=float32)>,\n",
       " <tf.Tensor: shape=(100000,), dtype=float32, numpy=\n",
       " array([1.00000e+01, 1.10000e+01, 1.20000e+01, ..., 1.00007e+05,\n",
       "        1.00008e+05, 1.00009e+05], dtype=float32)>)"
      ]
     },
     "execution_count": 6,
     "metadata": {},
     "output_type": "execute_result"
    }
   ],
   "source": [
    "X=tf.constant(X)\n",
    "y=tf.constant(y)\n",
    "X=tf.cast(X,dtype=tf.float32)\n",
    "y=tf.cast(y,dtype=tf.float32)\n",
    "X,y"
   ]
  },
  {
   "cell_type": "code",
   "execution_count": 7,
   "id": "7f6b8150",
   "metadata": {},
   "outputs": [
    {
     "name": "stdout",
     "output_type": "stream",
     "text": [
      "Epoch 1/5\n",
      "3125/3125 [==============================] - 4s 1ms/step - loss: 12628900.0000 - mae: 12628900.0000\n",
      "Epoch 2/5\n",
      "3125/3125 [==============================] - 3s 1ms/step - loss: 12626618.0000 - mae: 12626618.0000\n",
      "Epoch 3/5\n",
      "3125/3125 [==============================] - 4s 1ms/step - loss: 12633909.0000 - mae: 12633909.0000\n",
      "Epoch 4/5\n",
      "3125/3125 [==============================] - 3s 1ms/step - loss: 12626366.0000 - mae: 12626366.0000\n",
      "Epoch 5/5\n",
      "3125/3125 [==============================] - 4s 1ms/step - loss: 12635239.0000 - mae: 12635239.0000\n"
     ]
    },
    {
     "data": {
      "text/plain": [
       "<keras.callbacks.History at 0x1d96caf8b50>"
      ]
     },
     "execution_count": 7,
     "metadata": {},
     "output_type": "execute_result"
    }
   ],
   "source": [
    "#set random seed\n",
    "tf.random.set_seed(42)\n",
    "# Create a model\n",
    "model = tf.keras.Sequential([\n",
    "    tf.keras.layers.Dense(1)\n",
    "])\n",
    "# Compile the model\n",
    "model.compile(loss=tf.keras.losses.mae,\n",
    "             optimizer=tf.keras.optimizers.SGD(), metrics=[\"mae\"])# sgd is short for stochastic gradient descent\n",
    "# Fit the model\n",
    "model.fit(tf.expand_dims(X, axis=-1), y, epochs=5)\n",
    "\n"
   ]
  },
  {
   "cell_type": "code",
   "execution_count": 8,
   "id": "2f350a98",
   "metadata": {},
   "outputs": [
    {
     "name": "stdout",
     "output_type": "stream",
     "text": [
      "1/1 [==============================] - 0s 91ms/step\n"
     ]
    },
    {
     "data": {
      "text/plain": [
       "array([[1696.4404]], dtype=float32)"
      ]
     },
     "execution_count": 8,
     "metadata": {},
     "output_type": "execute_result"
    }
   ],
   "source": [
    "model.predict([17.0])"
   ]
  },
  {
   "cell_type": "code",
   "execution_count": null,
   "id": "86ab00b1",
   "metadata": {},
   "outputs": [],
   "source": []
  }
 ],
 "metadata": {
  "kernelspec": {
   "display_name": "Python 3 (ipykernel)",
   "language": "python",
   "name": "python3"
  }
 },
 "nbformat": 4,
 "nbformat_minor": 5
}
